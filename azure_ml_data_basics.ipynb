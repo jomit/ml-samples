{
  "cells": [
    {
      "cell_type": "code",
      "source": [
        "import os\r\n",
        "import pandas as pd\r\n",
        "from calendar import monthrange\r\n",
        "from datetime import datetime, timedelta\r\n",
        "\r\n",
        "# Azure ML Packages\r\n",
        "import azureml.core\r\n",
        "from azureml.core import Dataset, Datastore, Workspace, Run\r\n",
        "from azureml.opendatasets import NoaaIsdWeather"
      ],
      "outputs": [],
      "execution_count": 1,
      "metadata": {
        "jupyter": {
          "source_hidden": false,
          "outputs_hidden": false
        },
        "nteract": {
          "transient": {
            "deleting": false
          }
        },
        "gather": {
          "logged": 1635812656940
        }
      }
    },
    {
      "cell_type": "code",
      "source": [
        "ws = Workspace.from_config()\r\n",
        "print(ws.name, ws.resource_group, ws.location, ws.subscription_id, sep='\\n')\r\n",
        "print(azureml.data.__version__)"
      ],
      "outputs": [],
      "execution_count": null,
      "metadata": {
        "gather": {
          "logged": 1635812657926
        }
      }
    },
    {
      "cell_type": "code",
      "source": [
        "# weatherds = Datastore(ws,\"update_weatherstore\")\r\n",
        "# weatherdataset = 'weather-florida'\r\n",
        "\r\n",
        "# target_years = [2019]\r\n",
        "\r\n",
        "# for year in target_years:\r\n",
        "#     for month in range(1, 12+1):\r\n",
        "#         path = 'data/{}/{:02d}/'.format(year, month)\r\n",
        "        \r\n",
        "#         try:  \r\n",
        "#             start = datetime(year, month, 1)\r\n",
        "#             end   = datetime(year, month, monthrange(year, month)[1]) + timedelta(days=1)\r\n",
        "#             isd   = NoaaIsdWeather(start, end).to_pandas_dataframe()\r\n",
        "#             isd   = isd[isd['stationName'].str.contains('FLORIDA', regex=True, na=False)]\r\n",
        "            \r\n",
        "#             os.makedirs(path, exist_ok=True)\r\n",
        "#             isd.to_parquet(path + 'data.parquet')\r\n",
        "#         except Exception as e:\r\n",
        "#             print('Month {} in year {} likely has no data.\\n'.format(month, year))\r\n",
        "#             print('Exception: {}'.format(e))\r\n",
        "\r\n",
        "# weatherds.upload('data', weatherdataset, overwrite=True, show_progress=True)"
      ],
      "outputs": [],
      "execution_count": null,
      "metadata": {
        "jupyter": {
          "source_hidden": false,
          "outputs_hidden": false
        },
        "nteract": {
          "transient": {
            "deleting": false
          }
        },
        "gather": {
          "logged": 1635811894795
        }
      }
    },
    {
      "cell_type": "code",
      "source": [
        "weatherds = Datastore(ws,\"weatherstore\")\r\n",
        "weatherdataset = 'weather-florida'\r\n",
        "\r\n",
        "datastore_path = [(weatherds, weatherdataset + '/*/*/data.parquet')]\r\n",
        "weatherdf = Dataset.Tabular.from_parquet_files(path=datastore_path, partition_format = weatherdataset + '/{coarse_time:yyyy/MM}/data.parquet').to_pandas_dataframe()"
      ],
      "outputs": [],
      "execution_count": 11,
      "metadata": {
        "jupyter": {
          "source_hidden": false,
          "outputs_hidden": false
        },
        "nteract": {
          "transient": {
            "deleting": false
          }
        },
        "gather": {
          "logged": 1635813809993
        }
      }
    },
    {
      "cell_type": "code",
      "source": [
        "print(weatherdf.shape)\r\n",
        "weatherdf.head()"
      ],
      "outputs": [
        {
          "output_type": "stream",
          "name": "stdout",
          "text": "(46393, 24)\n"
        },
        {
          "output_type": "execute_result",
          "execution_count": 12,
          "data": {
            "text/plain": "     usaf   wban            datetime  latitude  longitude  elevation  \\\n0  013170  99999 2019-01-25 02:00:00    60.383      5.333       36.0   \n1  013170  99999 2019-01-27 05:00:00    60.383      5.333       36.0   \n2  013170  99999 2019-01-12 20:00:00    60.383      5.333       36.0   \n3  013170  99999 2019-01-19 15:00:00    60.383      5.333       36.0   \n4  013170  99999 2019-01-02 20:00:00    60.383      5.333       36.0   \n\n   windAngle  windSpeed  temperature  seaLvlPressure  ... precipDepth  \\\n0      160.0        5.0          1.5          1009.7  ...         1.0   \n1       70.0        6.0          1.4           988.2  ...         0.0   \n2      150.0        1.0          3.9           997.7  ...         0.0   \n3      160.0        1.0          1.2          1013.8  ...         7.0   \n4      130.0        1.0          0.8          1038.7  ...         0.0   \n\n   snowDepth     stationName  countryOrRegion           p_k  year day version  \\\n0        NaN  BERGEN/FLORIDA               NO  013170-99999  2019  25     1.0   \n1        NaN  BERGEN/FLORIDA               NO  013170-99999  2019  27     1.0   \n2        NaN  BERGEN/FLORIDA               NO  013170-99999  2019  12     1.0   \n3        NaN  BERGEN/FLORIDA               NO  013170-99999  2019  19     1.0   \n4        NaN  BERGEN/FLORIDA               NO  013170-99999  2019   2     1.0   \n\n  __index_level_0__  coarse_time  \n0            365439   2019-01-01  \n1            365473   2019-01-01  \n2            365503   2019-01-01  \n3            365536   2019-01-01  \n4            365560   2019-01-01  \n\n[5 rows x 24 columns]",
            "text/html": "<div>\n<style scoped>\n    .dataframe tbody tr th:only-of-type {\n        vertical-align: middle;\n    }\n\n    .dataframe tbody tr th {\n        vertical-align: top;\n    }\n\n    .dataframe thead th {\n        text-align: right;\n    }\n</style>\n<table border=\"1\" class=\"dataframe\">\n  <thead>\n    <tr style=\"text-align: right;\">\n      <th></th>\n      <th>usaf</th>\n      <th>wban</th>\n      <th>datetime</th>\n      <th>latitude</th>\n      <th>longitude</th>\n      <th>elevation</th>\n      <th>windAngle</th>\n      <th>windSpeed</th>\n      <th>temperature</th>\n      <th>seaLvlPressure</th>\n      <th>...</th>\n      <th>precipDepth</th>\n      <th>snowDepth</th>\n      <th>stationName</th>\n      <th>countryOrRegion</th>\n      <th>p_k</th>\n      <th>year</th>\n      <th>day</th>\n      <th>version</th>\n      <th>__index_level_0__</th>\n      <th>coarse_time</th>\n    </tr>\n  </thead>\n  <tbody>\n    <tr>\n      <th>0</th>\n      <td>013170</td>\n      <td>99999</td>\n      <td>2019-01-25 02:00:00</td>\n      <td>60.383</td>\n      <td>5.333</td>\n      <td>36.0</td>\n      <td>160.0</td>\n      <td>5.0</td>\n      <td>1.5</td>\n      <td>1009.7</td>\n      <td>...</td>\n      <td>1.0</td>\n      <td>NaN</td>\n      <td>BERGEN/FLORIDA</td>\n      <td>NO</td>\n      <td>013170-99999</td>\n      <td>2019</td>\n      <td>25</td>\n      <td>1.0</td>\n      <td>365439</td>\n      <td>2019-01-01</td>\n    </tr>\n    <tr>\n      <th>1</th>\n      <td>013170</td>\n      <td>99999</td>\n      <td>2019-01-27 05:00:00</td>\n      <td>60.383</td>\n      <td>5.333</td>\n      <td>36.0</td>\n      <td>70.0</td>\n      <td>6.0</td>\n      <td>1.4</td>\n      <td>988.2</td>\n      <td>...</td>\n      <td>0.0</td>\n      <td>NaN</td>\n      <td>BERGEN/FLORIDA</td>\n      <td>NO</td>\n      <td>013170-99999</td>\n      <td>2019</td>\n      <td>27</td>\n      <td>1.0</td>\n      <td>365473</td>\n      <td>2019-01-01</td>\n    </tr>\n    <tr>\n      <th>2</th>\n      <td>013170</td>\n      <td>99999</td>\n      <td>2019-01-12 20:00:00</td>\n      <td>60.383</td>\n      <td>5.333</td>\n      <td>36.0</td>\n      <td>150.0</td>\n      <td>1.0</td>\n      <td>3.9</td>\n      <td>997.7</td>\n      <td>...</td>\n      <td>0.0</td>\n      <td>NaN</td>\n      <td>BERGEN/FLORIDA</td>\n      <td>NO</td>\n      <td>013170-99999</td>\n      <td>2019</td>\n      <td>12</td>\n      <td>1.0</td>\n      <td>365503</td>\n      <td>2019-01-01</td>\n    </tr>\n    <tr>\n      <th>3</th>\n      <td>013170</td>\n      <td>99999</td>\n      <td>2019-01-19 15:00:00</td>\n      <td>60.383</td>\n      <td>5.333</td>\n      <td>36.0</td>\n      <td>160.0</td>\n      <td>1.0</td>\n      <td>1.2</td>\n      <td>1013.8</td>\n      <td>...</td>\n      <td>7.0</td>\n      <td>NaN</td>\n      <td>BERGEN/FLORIDA</td>\n      <td>NO</td>\n      <td>013170-99999</td>\n      <td>2019</td>\n      <td>19</td>\n      <td>1.0</td>\n      <td>365536</td>\n      <td>2019-01-01</td>\n    </tr>\n    <tr>\n      <th>4</th>\n      <td>013170</td>\n      <td>99999</td>\n      <td>2019-01-02 20:00:00</td>\n      <td>60.383</td>\n      <td>5.333</td>\n      <td>36.0</td>\n      <td>130.0</td>\n      <td>1.0</td>\n      <td>0.8</td>\n      <td>1038.7</td>\n      <td>...</td>\n      <td>0.0</td>\n      <td>NaN</td>\n      <td>BERGEN/FLORIDA</td>\n      <td>NO</td>\n      <td>013170-99999</td>\n      <td>2019</td>\n      <td>2</td>\n      <td>1.0</td>\n      <td>365560</td>\n      <td>2019-01-01</td>\n    </tr>\n  </tbody>\n</table>\n<p>5 rows × 24 columns</p>\n</div>"
          },
          "metadata": {}
        }
      ],
      "execution_count": 12,
      "metadata": {
        "jupyter": {
          "source_hidden": false,
          "outputs_hidden": false
        },
        "nteract": {
          "transient": {
            "deleting": false
          }
        },
        "gather": {
          "logged": 1635813814062
        }
      }
    },
    {
      "cell_type": "code",
      "source": [
        "weather_df = ws.datasets['florida_weather'].to_pandas_dataframe()\r\n",
        "print(weather_df.shape)\r\n",
        "weather_df.head()"
      ],
      "outputs": [
        {
          "output_type": "stream",
          "name": "stdout",
          "text": "(46393, 24)\n"
        },
        {
          "output_type": "execute_result",
          "execution_count": 13,
          "data": {
            "text/plain": "     usaf   wban            datetime  latitude  longitude  elevation  \\\n0  013170  99999 2019-01-25 02:00:00    60.383      5.333       36.0   \n1  013170  99999 2019-01-27 05:00:00    60.383      5.333       36.0   \n2  013170  99999 2019-01-12 20:00:00    60.383      5.333       36.0   \n3  013170  99999 2019-01-19 15:00:00    60.383      5.333       36.0   \n4  013170  99999 2019-01-02 20:00:00    60.383      5.333       36.0   \n\n   windAngle  windSpeed  temperature  seaLvlPressure  ... precipDepth  \\\n0      160.0        5.0          1.5          1009.7  ...         1.0   \n1       70.0        6.0          1.4           988.2  ...         0.0   \n2      150.0        1.0          3.9           997.7  ...         0.0   \n3      160.0        1.0          1.2          1013.8  ...         7.0   \n4      130.0        1.0          0.8          1038.7  ...         0.0   \n\n   snowDepth     stationName  countryOrRegion           p_k  year day version  \\\n0        NaN  BERGEN/FLORIDA               NO  013170-99999  2019  25     1.0   \n1        NaN  BERGEN/FLORIDA               NO  013170-99999  2019  27     1.0   \n2        NaN  BERGEN/FLORIDA               NO  013170-99999  2019  12     1.0   \n3        NaN  BERGEN/FLORIDA               NO  013170-99999  2019  19     1.0   \n4        NaN  BERGEN/FLORIDA               NO  013170-99999  2019   2     1.0   \n\n  __index_level_0__  coarse_time  \n0            365439   2019-01-01  \n1            365473   2019-01-01  \n2            365503   2019-01-01  \n3            365536   2019-01-01  \n4            365560   2019-01-01  \n\n[5 rows x 24 columns]",
            "text/html": "<div>\n<style scoped>\n    .dataframe tbody tr th:only-of-type {\n        vertical-align: middle;\n    }\n\n    .dataframe tbody tr th {\n        vertical-align: top;\n    }\n\n    .dataframe thead th {\n        text-align: right;\n    }\n</style>\n<table border=\"1\" class=\"dataframe\">\n  <thead>\n    <tr style=\"text-align: right;\">\n      <th></th>\n      <th>usaf</th>\n      <th>wban</th>\n      <th>datetime</th>\n      <th>latitude</th>\n      <th>longitude</th>\n      <th>elevation</th>\n      <th>windAngle</th>\n      <th>windSpeed</th>\n      <th>temperature</th>\n      <th>seaLvlPressure</th>\n      <th>...</th>\n      <th>precipDepth</th>\n      <th>snowDepth</th>\n      <th>stationName</th>\n      <th>countryOrRegion</th>\n      <th>p_k</th>\n      <th>year</th>\n      <th>day</th>\n      <th>version</th>\n      <th>__index_level_0__</th>\n      <th>coarse_time</th>\n    </tr>\n  </thead>\n  <tbody>\n    <tr>\n      <th>0</th>\n      <td>013170</td>\n      <td>99999</td>\n      <td>2019-01-25 02:00:00</td>\n      <td>60.383</td>\n      <td>5.333</td>\n      <td>36.0</td>\n      <td>160.0</td>\n      <td>5.0</td>\n      <td>1.5</td>\n      <td>1009.7</td>\n      <td>...</td>\n      <td>1.0</td>\n      <td>NaN</td>\n      <td>BERGEN/FLORIDA</td>\n      <td>NO</td>\n      <td>013170-99999</td>\n      <td>2019</td>\n      <td>25</td>\n      <td>1.0</td>\n      <td>365439</td>\n      <td>2019-01-01</td>\n    </tr>\n    <tr>\n      <th>1</th>\n      <td>013170</td>\n      <td>99999</td>\n      <td>2019-01-27 05:00:00</td>\n      <td>60.383</td>\n      <td>5.333</td>\n      <td>36.0</td>\n      <td>70.0</td>\n      <td>6.0</td>\n      <td>1.4</td>\n      <td>988.2</td>\n      <td>...</td>\n      <td>0.0</td>\n      <td>NaN</td>\n      <td>BERGEN/FLORIDA</td>\n      <td>NO</td>\n      <td>013170-99999</td>\n      <td>2019</td>\n      <td>27</td>\n      <td>1.0</td>\n      <td>365473</td>\n      <td>2019-01-01</td>\n    </tr>\n    <tr>\n      <th>2</th>\n      <td>013170</td>\n      <td>99999</td>\n      <td>2019-01-12 20:00:00</td>\n      <td>60.383</td>\n      <td>5.333</td>\n      <td>36.0</td>\n      <td>150.0</td>\n      <td>1.0</td>\n      <td>3.9</td>\n      <td>997.7</td>\n      <td>...</td>\n      <td>0.0</td>\n      <td>NaN</td>\n      <td>BERGEN/FLORIDA</td>\n      <td>NO</td>\n      <td>013170-99999</td>\n      <td>2019</td>\n      <td>12</td>\n      <td>1.0</td>\n      <td>365503</td>\n      <td>2019-01-01</td>\n    </tr>\n    <tr>\n      <th>3</th>\n      <td>013170</td>\n      <td>99999</td>\n      <td>2019-01-19 15:00:00</td>\n      <td>60.383</td>\n      <td>5.333</td>\n      <td>36.0</td>\n      <td>160.0</td>\n      <td>1.0</td>\n      <td>1.2</td>\n      <td>1013.8</td>\n      <td>...</td>\n      <td>7.0</td>\n      <td>NaN</td>\n      <td>BERGEN/FLORIDA</td>\n      <td>NO</td>\n      <td>013170-99999</td>\n      <td>2019</td>\n      <td>19</td>\n      <td>1.0</td>\n      <td>365536</td>\n      <td>2019-01-01</td>\n    </tr>\n    <tr>\n      <th>4</th>\n      <td>013170</td>\n      <td>99999</td>\n      <td>2019-01-02 20:00:00</td>\n      <td>60.383</td>\n      <td>5.333</td>\n      <td>36.0</td>\n      <td>130.0</td>\n      <td>1.0</td>\n      <td>0.8</td>\n      <td>1038.7</td>\n      <td>...</td>\n      <td>0.0</td>\n      <td>NaN</td>\n      <td>BERGEN/FLORIDA</td>\n      <td>NO</td>\n      <td>013170-99999</td>\n      <td>2019</td>\n      <td>2</td>\n      <td>1.0</td>\n      <td>365560</td>\n      <td>2019-01-01</td>\n    </tr>\n  </tbody>\n</table>\n<p>5 rows × 24 columns</p>\n</div>"
          },
          "metadata": {}
        }
      ],
      "execution_count": 13,
      "metadata": {
        "jupyter": {
          "source_hidden": false,
          "outputs_hidden": false
        },
        "nteract": {
          "transient": {
            "deleting": false
          }
        },
        "gather": {
          "logged": 1635814440498
        }
      }
    },
    {
      "cell_type": "markdown",
      "source": [
        "# Additional Resources\r\n",
        "\r\n",
        "- Machine Learning for Beginners: https://github.com/microsoft/ML-For-Beginners\r\n",
        "- Data Science for Begineers: https://github.com/microsoft/Data-Science-For-Beginners\r\n",
        "- Azure Machine Learning Sample Notebooks: https://github.com/Azure/MachineLearningNotebooks/\r\n",
        "\r\n"
      ],
      "metadata": {
        "nteract": {
          "transient": {
            "deleting": false
          }
        }
      }
    },
    {
      "cell_type": "markdown",
      "source": [],
      "metadata": {
        "nteract": {
          "transient": {
            "deleting": false
          }
        }
      }
    }
  ],
  "metadata": {
    "kernelspec": {
      "name": "python3-azureml",
      "language": "python",
      "display_name": "Python 3.6 - AzureML"
    },
    "language_info": {
      "name": "python",
      "version": "3.6.9",
      "mimetype": "text/x-python",
      "codemirror_mode": {
        "name": "ipython",
        "version": 3
      },
      "pygments_lexer": "ipython3",
      "nbconvert_exporter": "python",
      "file_extension": ".py"
    },
    "kernel_info": {
      "name": "python3-azureml"
    },
    "microsoft": {
      "host": {
        "AzureML": {
          "notebookHasBeenCompleted": true
        }
      }
    },
    "nteract": {
      "version": "nteract-front-end@1.0.0"
    }
  },
  "nbformat": 4,
  "nbformat_minor": 0
}