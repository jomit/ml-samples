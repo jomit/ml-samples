{
 "cells": [
  {
   "cell_type": "markdown",
   "metadata": {},
   "source": [
    "# This notebook contains basic instructions to load data from a central storage account provided, install library "
   ]
  },
  {
   "cell_type": "markdown",
   "metadata": {},
   "source": [
    "## Install library\n",
    "Most common data and machine learning libraries are preinstalled such as Pandas, Sklearn, Pytorch, Tensorflow. Should you need additional libraries, this is how to do that"
   ]
  },
  {
   "cell_type": "code",
   "execution_count": null,
   "metadata": {},
   "outputs": [],
   "source": [
    "#using networkx\n",
    "!pip install --upgrade networkx"
   ]
  },
  {
   "cell_type": "code",
   "execution_count": null,
   "metadata": {},
   "outputs": [],
   "source": [
    "!pip install dash dash-cytoscape\n"
   ]
  },
  {
   "cell_type": "markdown",
   "metadata": {},
   "source": [
    "## Logon to Azure ML Workspace"
   ]
  },
  {
   "cell_type": "code",
   "execution_count": 2,
   "metadata": {},
   "outputs": [],
   "source": [
    "from azureml.core import Workspace\n",
    "\n",
    "ws = Workspace.from_config()\n"
   ]
  },
  {
   "cell_type": "markdown",
   "metadata": {},
   "source": [
    "## Getting data from the workspace\n",
    "Assuming that you have configured data store and dataset in Azure ML workspace, the following code allows you to read data from a registered dataset in Azure ML and convert to Pandas dataframe"
   ]
  },
  {
   "cell_type": "markdown",
   "metadata": {},
   "source": [
    "### Option 1: programatically register datastore and  dataset from the provided storage information\n"
   ]
  },
  {
   "cell_type": "code",
   "execution_count": 13,
   "metadata": {},
   "outputs": [],
   "source": [
    "###Register datastore\n",
    "from azureml.core import Datastore\n",
    "from  azureml.data.dataset_factory import TabularDatasetFactory \n",
    "sas_token ='' #Get the sas token info from hack organizer\n",
    "datastore = Datastore.register_azure_blob_container(ws,account_name = 'adlsdatalakegen6',datastore_name='mltrainingsas2', container_name= 'mltraining', sas_token = sas_token )\n",
    "###Create Dataset and register to workspace\n",
    "dataset = TabularDatasetFactory.from_parquet_files(path=(datastore,\"ISDWeather/year=2008/month=1/*.parquet\"))\n",
    "\n",
    "dataset = dataset.register(workspace=ws,\n",
    "                                 name='idsdataset',\n",
    "                                 description='IDS training data', create_new_version=True)\n"
   ]
  },
  {
   "cell_type": "markdown",
   "metadata": {},
   "source": [
    "### Option 2:create datastore and dataset using AML UI with  from the provided storage information\n",
    " \n",
    "Follow this instruction: https://docs.microsoft.com/en-us/azure/machine-learning/how-to-connect-data-ui"
   ]
  },
  {
   "cell_type": "code",
   "execution_count": 3,
   "metadata": {},
   "outputs": [],
   "source": [
    "# then simply use this code to get the handle to the dataset\n",
    "dataset = ws.datasets['isdweathertest']"
   ]
  },
  {
   "cell_type": "code",
   "execution_count": 4,
   "metadata": {},
   "outputs": [],
   "source": [
    "#Get data in Pandas format and develop\n",
    "idsdataset_pd = dataset.to_pandas_dataframe()"
   ]
  },
  {
   "cell_type": "code",
   "execution_count": 9,
   "metadata": {},
   "outputs": [
    {
     "data": {
      "text/plain": [
       "(8103070, 22)"
      ]
     },
     "execution_count": 9,
     "metadata": {},
     "output_type": "execute_result"
    }
   ],
   "source": [
    "idsdataset_pd.shape\n"
   ]
  },
  {
   "cell_type": "markdown",
   "metadata": {},
   "source": [
    "##  Additional Resources\n",
    "Machine Learning for Beginners: https://github.com/microsoft/ML-For-Beginners\n",
    "\n",
    "Data Science for Begineers: https://github.com/microsoft/Data-Science-For-Beginners\n",
    "\n",
    "Azure Machine Learning Sample Notebooks: https://github.com/Azure/MachineLearningNotebooks/"
   ]
  },
  {
   "cell_type": "markdown",
   "metadata": {},
   "source": []
  }
 ],
 "metadata": {
  "kernelspec": {
   "display_name": "Python 3.6 - AzureML",
   "language": "python",
   "name": "python3-azureml"
  },
  "language_info": {
   "codemirror_mode": {
    "name": "ipython",
    "version": 3
   },
   "file_extension": ".py",
   "mimetype": "text/x-python",
   "name": "python",
   "nbconvert_exporter": "python",
   "pygments_lexer": "ipython3",
   "version": "3.6.9"
  }
 },
 "nbformat": 4,
 "nbformat_minor": 4
}
